{
  "cells": [
    {
      "cell_type": "code",
      "execution_count": 5,
      "metadata": {
        "id": "UKGaBxFBvlTX"
      },
      "outputs": [],
      "source": [
        "import numpy as np\n",
        "import pandas as pd\n",
        "import seaborn as sns\n",
        "import matplotlib.pyplot as plt\n",
        "from sklearn import preprocessing\n",
        "from sklearn.pipeline import Pipeline\n",
        "from sklearn import metrics\n",
        "from sklearn.model_selection import train_test_split\n",
        "from sklearn.decomposition import PCA\n",
        "from sklearn.svm import SVC\n",
        "from sklearn.linear_model import LinearRegression\n",
        "from sklearn.linear_model import LogisticRegression\n",
        "from sklearn.tree import DecisionTreeClassifier\n",
        "from sklearn.preprocessing import StandardScaler\n",
        "from sklearn.neighbors import KNeighborsClassifier\n",
        "from sklearn.ensemble import RandomForestClassifier"
      ]
    },
    {
      "cell_type": "code",
      "execution_count": 6,
      "metadata": {
        "id": "vgUIzvNYvsjg",
        "colab": {
          "base_uri": "https://localhost:8080/"
        },
        "outputId": "48899296-9414-4ecd-e889-ec9eb7f28915"
      },
      "outputs": [
        {
          "output_type": "stream",
          "name": "stdout",
          "text": [
            "Index(['id', 'diagnosis', 'radius_mean', 'texture_mean', 'perimeter_mean',\n",
            "       'area_mean', 'smoothness_mean', 'compactness_mean', 'concavity_mean',\n",
            "       'concave points_mean', 'symmetry_mean', 'fractal_dimension_mean',\n",
            "       'radius_se', 'texture_se', 'perimeter_se', 'area_se', 'smoothness_se',\n",
            "       'compactness_se', 'concavity_se', 'concave points_se', 'symmetry_se',\n",
            "       'fractal_dimension_se', 'radius_worst', 'texture_worst',\n",
            "       'perimeter_worst', 'area_worst', 'smoothness_worst',\n",
            "       'compactness_worst', 'concavity_worst', 'concave points_worst',\n",
            "       'symmetry_worst', 'fractal_dimension_worst', 'Unnamed: 32'],\n",
            "      dtype='object')\n"
          ]
        }
      ],
      "source": [
        "data_set=pd.read_csv('/content/BreastCancer.csv')\n",
        "print(data_set.columns)"
      ]
    },
    {
      "cell_type": "code",
      "source": [
        "data_set.isnull().any"
      ],
      "metadata": {
        "id": "ZXsbbrr9cPXk",
        "colab": {
          "base_uri": "https://localhost:8080/"
        },
        "outputId": "b9953eed-88ca-4ed4-a14c-c601776d574f"
      },
      "execution_count": 7,
      "outputs": [
        {
          "output_type": "execute_result",
          "data": {
            "text/plain": [
              "<bound method NDFrame._add_numeric_operations.<locals>.any of         id  diagnosis  radius_mean  texture_mean  perimeter_mean  area_mean  \\\n",
              "0    False      False        False         False           False      False   \n",
              "1    False      False        False         False           False      False   \n",
              "2    False      False        False         False           False      False   \n",
              "3    False      False        False         False           False      False   \n",
              "4    False      False        False         False           False      False   \n",
              "..     ...        ...          ...           ...             ...        ...   \n",
              "564  False      False        False         False           False      False   \n",
              "565  False      False        False         False           False      False   \n",
              "566  False      False        False         False           False      False   \n",
              "567  False      False        False         False           False      False   \n",
              "568  False      False        False         False           False      False   \n",
              "\n",
              "     smoothness_mean  compactness_mean  concavity_mean  concave points_mean  \\\n",
              "0              False             False           False                False   \n",
              "1              False             False           False                False   \n",
              "2              False             False           False                False   \n",
              "3              False             False           False                False   \n",
              "4              False             False           False                False   \n",
              "..               ...               ...             ...                  ...   \n",
              "564            False             False           False                False   \n",
              "565            False             False           False                False   \n",
              "566            False             False           False                False   \n",
              "567            False             False           False                False   \n",
              "568            False             False           False                False   \n",
              "\n",
              "     ...  texture_worst  perimeter_worst  area_worst  smoothness_worst  \\\n",
              "0    ...          False            False       False             False   \n",
              "1    ...          False            False       False             False   \n",
              "2    ...          False            False       False             False   \n",
              "3    ...          False            False       False             False   \n",
              "4    ...          False            False       False             False   \n",
              "..   ...            ...              ...         ...               ...   \n",
              "564  ...          False            False       False             False   \n",
              "565  ...          False            False       False             False   \n",
              "566  ...          False            False       False             False   \n",
              "567  ...          False            False       False             False   \n",
              "568  ...          False            False       False             False   \n",
              "\n",
              "     compactness_worst  concavity_worst  concave points_worst  symmetry_worst  \\\n",
              "0                False            False                 False           False   \n",
              "1                False            False                 False           False   \n",
              "2                False            False                 False           False   \n",
              "3                False            False                 False           False   \n",
              "4                False            False                 False           False   \n",
              "..                 ...              ...                   ...             ...   \n",
              "564              False            False                 False           False   \n",
              "565              False            False                 False           False   \n",
              "566              False            False                 False           False   \n",
              "567              False            False                 False           False   \n",
              "568              False            False                 False           False   \n",
              "\n",
              "     fractal_dimension_worst  Unnamed: 32  \n",
              "0                      False         True  \n",
              "1                      False         True  \n",
              "2                      False         True  \n",
              "3                      False         True  \n",
              "4                      False         True  \n",
              "..                       ...          ...  \n",
              "564                    False         True  \n",
              "565                    False         True  \n",
              "566                    False         True  \n",
              "567                    False         True  \n",
              "568                    False         True  \n",
              "\n",
              "[569 rows x 33 columns]>"
            ]
          },
          "metadata": {},
          "execution_count": 7
        }
      ]
    },
    {
      "cell_type": "code",
      "source": [
        "data=data_set.drop(columns=['id','Unnamed: 32'])"
      ],
      "metadata": {
        "id": "AnzW1KGeCVkF"
      },
      "execution_count": 8,
      "outputs": []
    },
    {
      "cell_type": "code",
      "source": [
        "print(data.columns)\n",
        "print(data.shape)"
      ],
      "metadata": {
        "colab": {
          "base_uri": "https://localhost:8080/"
        },
        "id": "YkhKkpVlCZbe",
        "outputId": "f5268b54-3e99-419e-b424-07a678ee83b3"
      },
      "execution_count": 9,
      "outputs": [
        {
          "output_type": "stream",
          "name": "stdout",
          "text": [
            "Index(['diagnosis', 'radius_mean', 'texture_mean', 'perimeter_mean',\n",
            "       'area_mean', 'smoothness_mean', 'compactness_mean', 'concavity_mean',\n",
            "       'concave points_mean', 'symmetry_mean', 'fractal_dimension_mean',\n",
            "       'radius_se', 'texture_se', 'perimeter_se', 'area_se', 'smoothness_se',\n",
            "       'compactness_se', 'concavity_se', 'concave points_se', 'symmetry_se',\n",
            "       'fractal_dimension_se', 'radius_worst', 'texture_worst',\n",
            "       'perimeter_worst', 'area_worst', 'smoothness_worst',\n",
            "       'compactness_worst', 'concavity_worst', 'concave points_worst',\n",
            "       'symmetry_worst', 'fractal_dimension_worst'],\n",
            "      dtype='object')\n",
            "(569, 31)\n"
          ]
        }
      ]
    },
    {
      "cell_type": "code",
      "source": [
        "LE=preprocessing.LabelEncoder()\n",
        "for col in data.columns:\n",
        "  data[col]=LE.fit_transform(data[col])"
      ],
      "metadata": {
        "id": "7w3Ly9ZHEqxc"
      },
      "execution_count": 10,
      "outputs": []
    },
    {
      "cell_type": "code",
      "source": [
        "X=data.drop(columns=['diagnosis'])\n",
        "Y=data['diagnosis']\n",
        "x_train,x_test,y_train,y_test=train_test_split(X,Y,test_size=0.3)"
      ],
      "metadata": {
        "id": "ooC86rqXFHle"
      },
      "execution_count": 11,
      "outputs": []
    },
    {
      "cell_type": "code",
      "source": [
        "models=[]\n",
        "models.append(['LinearRegression',LinearRegression()])\n",
        "models.append(['LogisticRegression',LogisticRegression()])\n",
        "models.append(['RandomForest',RandomForestClassifier()])\n",
        "models.append(['KNN',KNeighborsClassifier()])\n",
        "models.append(['DecisionTree',DecisionTreeClassifier()])\n",
        "models.append(['SVM',SVC(kernel='rbf')])"
      ],
      "metadata": {
        "id": "HFEef3-6LT4C"
      },
      "execution_count": 12,
      "outputs": []
    },
    {
      "cell_type": "code",
      "source": [
        "for name,model_clf in models:\n",
        "  model = Pipeline([\n",
        "        ('scaler', StandardScaler()),\n",
        "        ('model', model_clf)\n",
        "    ])\n",
        "  model.fit(x_train,y_train)\n",
        "  model_pred=model.predict(x_test)\n",
        "  try:\n",
        "    model_score=metrics.accuracy_score(y_test,model_pred)*100\n",
        "  except Exception as e:\n",
        "    model_score=(metrics.mean_squared_error(y_test,model_pred))\n",
        "    model_score=(100-(model_score*100))\n",
        "  print(f'Model Name : {name}\\nModel Accuray : {model_score:.2f}% \\n')"
      ],
      "metadata": {
        "colab": {
          "base_uri": "https://localhost:8080/"
        },
        "id": "diBK65RDMQNK",
        "outputId": "740fb741-25d2-4f76-c4ae-3b52cd5231ba"
      },
      "execution_count": 13,
      "outputs": [
        {
          "output_type": "stream",
          "name": "stdout",
          "text": [
            "Model Name : LinearRegression\n",
            "Model Accuray : 94.11% \n",
            "\n",
            "Model Name : LogisticRegression\n",
            "Model Accuray : 97.08% \n",
            "\n",
            "Model Name : RandomForest\n",
            "Model Accuray : 95.91% \n",
            "\n",
            "Model Name : KNN\n",
            "Model Accuray : 96.49% \n",
            "\n",
            "Model Name : DecisionTree\n",
            "Model Accuray : 95.32% \n",
            "\n",
            "Model Name : SVM\n",
            "Model Accuray : 97.66% \n",
            "\n"
          ]
        }
      ]
    },
    {
      "cell_type": "code",
      "source": [],
      "metadata": {
        "id": "OEM5gpBLDWiQ"
      },
      "execution_count": 13,
      "outputs": []
    }
  ],
  "metadata": {
    "colab": {
      "provenance": []
    },
    "kernelspec": {
      "display_name": "Python 3",
      "name": "python3"
    },
    "language_info": {
      "name": "python"
    }
  },
  "nbformat": 4,
  "nbformat_minor": 0
}